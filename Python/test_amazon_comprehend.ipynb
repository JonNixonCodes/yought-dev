{
 "metadata": {
  "language_info": {
   "codemirror_mode": {
    "name": "ipython",
    "version": 3
   },
   "file_extension": ".py",
   "mimetype": "text/x-python",
   "name": "python",
   "nbconvert_exporter": "python",
   "pygments_lexer": "ipython3",
   "version": "3.9.5"
  },
  "orig_nbformat": 4,
  "kernelspec": {
   "name": "python3",
   "display_name": "Python 3.9.5 64-bit ('dev': conda)"
  },
  "interpreter": {
   "hash": "4f87a6c8bca6a299029af69d9537a60d43addb3f67b931229badfd2a4c904792"
  }
 },
 "nbformat": 4,
 "nbformat_minor": 2,
 "cells": [
  {
   "cell_type": "code",
   "execution_count": 6,
   "metadata": {},
   "outputs": [],
   "source": [
    "# Import libraries\n",
    "import os\n",
    "import boto3\n",
    "import pandas as pd"
   ]
  },
  {
   "cell_type": "code",
   "execution_count": 8,
   "metadata": {},
   "outputs": [],
   "source": [
    "# Constants\n",
    "_HOME_DIR = \"~/Workspace/yought-dev/\""
   ]
  },
  {
   "cell_type": "code",
   "execution_count": 22,
   "metadata": {},
   "outputs": [],
   "source": [
    "# Initialise Amazon Comprehend client\n",
    "# Start session\n",
    "s = boto3.session.Session()\n",
    "# Start client\n",
    "comprehend_client = s.client('comprehend')"
   ]
  },
  {
   "cell_type": "code",
   "execution_count": 23,
   "metadata": {},
   "outputs": [
    {
     "output_type": "execute_result",
     "data": {
      "text/plain": [
       "   id rating                                           comments  \\\n",
       "0   1   Good            AMAZING! best scanning experience ever!   \n",
       "1   2   Good  A bit slow but its working, also got the day o...   \n",
       "2   3   Good                                                NaN   \n",
       "3   4   Good                                                NaN   \n",
       "4   5   Good                                                NaN   \n",
       "\n",
       "  comment category  \n",
       "0              NaN  \n",
       "1              NaN  \n",
       "2              NaN  \n",
       "3              NaN  \n",
       "4              NaN  "
      ],
      "text/html": "<div>\n<style scoped>\n    .dataframe tbody tr th:only-of-type {\n        vertical-align: middle;\n    }\n\n    .dataframe tbody tr th {\n        vertical-align: top;\n    }\n\n    .dataframe thead th {\n        text-align: right;\n    }\n</style>\n<table border=\"1\" class=\"dataframe\">\n  <thead>\n    <tr style=\"text-align: right;\">\n      <th></th>\n      <th>id</th>\n      <th>rating</th>\n      <th>comments</th>\n      <th>comment category</th>\n    </tr>\n  </thead>\n  <tbody>\n    <tr>\n      <th>0</th>\n      <td>1</td>\n      <td>Good</td>\n      <td>AMAZING! best scanning experience ever!</td>\n      <td>NaN</td>\n    </tr>\n    <tr>\n      <th>1</th>\n      <td>2</td>\n      <td>Good</td>\n      <td>A bit slow but its working, also got the day o...</td>\n      <td>NaN</td>\n    </tr>\n    <tr>\n      <th>2</th>\n      <td>3</td>\n      <td>Good</td>\n      <td>NaN</td>\n      <td>NaN</td>\n    </tr>\n    <tr>\n      <th>3</th>\n      <td>4</td>\n      <td>Good</td>\n      <td>NaN</td>\n      <td>NaN</td>\n    </tr>\n    <tr>\n      <th>4</th>\n      <td>5</td>\n      <td>Good</td>\n      <td>NaN</td>\n      <td>NaN</td>\n    </tr>\n  </tbody>\n</table>\n</div>"
     },
     "metadata": {},
     "execution_count": 23
    }
   ],
   "source": [
    "# Load data\n",
    "fpath = _HOME_DIR+\"Data/text-categorisation-data.xlsx\"\n",
    "data = pd.read_excel(fpath, sheet_name=\"raw-data\")\n",
    "data.head()"
   ]
  },
  {
   "cell_type": "code",
   "execution_count": 16,
   "metadata": {},
   "outputs": [
    {
     "output_type": "stream",
     "name": "stdout",
     "text": [
      "{'Sentiment': 'POSITIVE', 'SentimentScore': {'Positive': 0.9993520379066467, 'Negative': 6.146515079308301e-05, 'Neutral': 0.0005709004472009838, 'Mixed': 1.5626157619408332e-05}, 'ResponseMetadata': {'RequestId': 'ef73ae75-1b27-4c1c-aad0-ea6f4399c1bf', 'HTTPStatusCode': 200, 'HTTPHeaders': {'x-amzn-requestid': 'ef73ae75-1b27-4c1c-aad0-ea6f4399c1bf', 'content-type': 'application/x-amz-json-1.1', 'content-length': '166', 'date': 'Wed, 16 Jun 2021 11:12:40 GMT'}, 'RetryAttempts': 0}}\n{'Sentiment': 'NEGATIVE', 'SentimentScore': {'Positive': 0.0003344400611240417, 'Negative': 0.9991570711135864, 'Neutral': 0.0004947020788677037, 'Mixed': 1.3743381714448333e-05}, 'ResponseMetadata': {'RequestId': '22767518-6ea3-4fbc-814e-a3c64b86c4ba', 'HTTPStatusCode': 200, 'HTTPHeaders': {'x-amzn-requestid': '22767518-6ea3-4fbc-814e-a3c64b86c4ba', 'content-type': 'application/x-amz-json-1.1', 'content-length': '166', 'date': 'Wed, 16 Jun 2021 11:12:40 GMT'}, 'RetryAttempts': 0}}\n"
     ]
    }
   ],
   "source": [
    "# Test detect sentiment\n",
    "t_l = [\"This is my favourite TV Show!\",\"I hate Friends! Worst TV show!\"]\n",
    "for t in t_l:\n",
    "    result = comprehend_client.detect_sentiment(Text=t,LanguageCode=\"en\")\n",
    "    print(result)"
   ]
  },
  {
   "cell_type": "code",
   "execution_count": 24,
   "metadata": {},
   "outputs": [
    {
     "output_type": "execute_result",
     "data": {
      "text/plain": [
       "          id rating                                           comments\n",
       "19859  19860   Good                                               Good\n",
       "23359  23360   Good                            Very smooth experience!\n",
       "79        80    Bad                                   Took ages to do.\n",
       "12136  12137   Good  My address has changed and is recorded on the ...\n",
       "40512  40513   Good                                    No it was great\n",
       "19638  19639   Good                You already have my license scanned\n",
       "29125  29126   Good                 Correct address is on rear of card\n",
       "40230  40231    Bad  Took a long time to position correctly for it ...\n",
       "2045    2046   Good  It was very annoying and tricky that it was us...\n",
       "32897  32898   Good                                            Like it"
      ],
      "text/html": "<div>\n<style scoped>\n    .dataframe tbody tr th:only-of-type {\n        vertical-align: middle;\n    }\n\n    .dataframe tbody tr th {\n        vertical-align: top;\n    }\n\n    .dataframe thead th {\n        text-align: right;\n    }\n</style>\n<table border=\"1\" class=\"dataframe\">\n  <thead>\n    <tr style=\"text-align: right;\">\n      <th></th>\n      <th>id</th>\n      <th>rating</th>\n      <th>comments</th>\n    </tr>\n  </thead>\n  <tbody>\n    <tr>\n      <th>19859</th>\n      <td>19860</td>\n      <td>Good</td>\n      <td>Good</td>\n    </tr>\n    <tr>\n      <th>23359</th>\n      <td>23360</td>\n      <td>Good</td>\n      <td>Very smooth experience!</td>\n    </tr>\n    <tr>\n      <th>79</th>\n      <td>80</td>\n      <td>Bad</td>\n      <td>Took ages to do.</td>\n    </tr>\n    <tr>\n      <th>12136</th>\n      <td>12137</td>\n      <td>Good</td>\n      <td>My address has changed and is recorded on the ...</td>\n    </tr>\n    <tr>\n      <th>40512</th>\n      <td>40513</td>\n      <td>Good</td>\n      <td>No it was great</td>\n    </tr>\n    <tr>\n      <th>19638</th>\n      <td>19639</td>\n      <td>Good</td>\n      <td>You already have my license scanned</td>\n    </tr>\n    <tr>\n      <th>29125</th>\n      <td>29126</td>\n      <td>Good</td>\n      <td>Correct address is on rear of card</td>\n    </tr>\n    <tr>\n      <th>40230</th>\n      <td>40231</td>\n      <td>Bad</td>\n      <td>Took a long time to position correctly for it ...</td>\n    </tr>\n    <tr>\n      <th>2045</th>\n      <td>2046</td>\n      <td>Good</td>\n      <td>It was very annoying and tricky that it was us...</td>\n    </tr>\n    <tr>\n      <th>32897</th>\n      <td>32898</td>\n      <td>Good</td>\n      <td>Like it</td>\n    </tr>\n  </tbody>\n</table>\n</div>"
     },
     "metadata": {},
     "execution_count": 24
    }
   ],
   "source": [
    "# Sample comments\n",
    "data_sample = data.loc[~(data[\"comments\"].isna()),['id','rating','comments']].sample(10)\n",
    "data_sample"
   ]
  },
  {
   "cell_type": "code",
   "execution_count": 28,
   "metadata": {},
   "outputs": [
    {
     "output_type": "stream",
     "name": "stdout",
     "text": [
      "Text:\t\tGood\n",
      "Label:\t\tGood\n",
      "Sentiment:\tPOSITIVE\n",
      "\n",
      "Text:\t\tVery smooth experience!\n",
      "Label:\t\tGood\n",
      "Sentiment:\tPOSITIVE\n",
      "\n",
      "Text:\t\tTook ages to do.\n",
      "Label:\t\tBad\n",
      "Sentiment:\tNEUTRAL\n",
      "\n",
      "Text:\t\tMy address has changed and is recorded on the back of my licence. Do you wish to scan that?\n",
      "Label:\t\tGood\n",
      "Sentiment:\tNEUTRAL\n",
      "\n",
      "Text:\t\tNo it was great\n",
      "Label:\t\tGood\n",
      "Sentiment:\tNEGATIVE\n",
      "\n",
      "Text:\t\tYou already have my license scanned\n",
      "Label:\t\tGood\n",
      "Sentiment:\tNEUTRAL\n",
      "\n",
      "Text:\t\tCorrect address is on rear of card\n",
      "Label:\t\tGood\n",
      "Sentiment:\tNEUTRAL\n",
      "\n",
      "Text:\t\tTook a long time to position correctly for it to be scanned\n",
      "Label:\t\tBad\n",
      "Sentiment:\tNEGATIVE\n",
      "\n",
      "Text:\t\tIt was very annoying and tricky that it was using the selfie camera... it should just use the regular camera to make it easier\n",
      "Label:\t\tGood\n",
      "Sentiment:\tNEGATIVE\n",
      "\n",
      "Text:\t\tLike it\n",
      "Label:\t\tGood\n",
      "Sentiment:\tPOSITIVE\n",
      "\n"
     ]
    }
   ],
   "source": [
    "# Test sentiment detection on comments\n",
    "for ind,row in data_sample.iterrows():\n",
    "    result = comprehend_client.detect_sentiment(Text=row[\"comments\"],LanguageCode=\"en\")\n",
    "    print(\"Text:\\t\\t{}\\nLabel:\\t\\t{}\\nSentiment:\\t{}\\n\".format(row[\"comments\"],row[\"rating\"],result['Sentiment']))"
   ]
  },
  {
   "cell_type": "code",
   "execution_count": 30,
   "metadata": {},
   "outputs": [
    {
     "output_type": "stream",
     "name": "stdout",
     "text": [
      "Text:\t\tGood\n",
      "Label:\t\tGood\n",
      "Key phrases:\t['Good']\n",
      "\n",
      "Text:\t\tVery smooth experience!\n",
      "Label:\t\tGood\n",
      "Key phrases:\t['smooth experience']\n",
      "\n",
      "Text:\t\tTook ages to do.\n",
      "Label:\t\tBad\n",
      "Key phrases:\t['ages']\n",
      "\n",
      "Text:\t\tMy address has changed and is recorded on the back of my licence. Do you wish to scan that?\n",
      "Label:\t\tGood\n",
      "Key phrases:\t['My address', 'the back', 'my licence']\n",
      "\n",
      "Text:\t\tNo it was great\n",
      "Label:\t\tGood\n",
      "Key phrases:\t['No it']\n",
      "\n",
      "Text:\t\tYou already have my license scanned\n",
      "Label:\t\tGood\n",
      "Key phrases:\t['my license']\n",
      "\n",
      "Text:\t\tCorrect address is on rear of card\n",
      "Label:\t\tGood\n",
      "Key phrases:\t['Correct address', 'rear']\n",
      "\n",
      "Text:\t\tTook a long time to position correctly for it to be scanned\n",
      "Label:\t\tBad\n",
      "Key phrases:\t['a long time', 'position']\n",
      "\n",
      "Text:\t\tIt was very annoying and tricky that it was using the selfie camera... it should just use the regular camera to make it easier\n",
      "Label:\t\tGood\n",
      "Key phrases:\t['the selfie camera', 'the regular camera']\n",
      "\n",
      "Text:\t\tLike it\n",
      "Label:\t\tGood\n",
      "Key phrases:\t[]\n",
      "\n"
     ]
    }
   ],
   "source": [
    "# Test detect-key-phrases\n",
    "for ind,row in data_sample.iterrows():\n",
    "    result = comprehend_client.detect_key_phrases(Text=row[\"comments\"],LanguageCode=\"en\")\n",
    "    kp_l = [kp['Text'] for kp in result['KeyPhrases']]\n",
    "    print(\"Text:\\t\\t{}\\nLabel:\\t\\t{}\\nKey phrases:\\t{}\\n\".format(row[\"comments\"],row[\"rating\"],kp_l))"
   ]
  },
  {
   "cell_type": "code",
   "execution_count": null,
   "metadata": {},
   "outputs": [],
   "source": []
  }
 ]
}