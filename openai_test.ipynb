{
 "cells": [
  {
   "cell_type": "code",
   "execution_count": 62,
   "id": "economic-lithuania",
   "metadata": {},
   "outputs": [],
   "source": [
    "# Import libraries\n",
    "import openai, jsonlines\n",
    "import pandas as pd"
   ]
  },
  {
   "cell_type": "code",
   "execution_count": 63,
   "id": "approximate-timothy",
   "metadata": {},
   "outputs": [],
   "source": [
    "# Setup OpenAI API\n",
    "secret_api_key=\"sk-UgVTxJkXAOwlfRIJbh5t69Vl9O6ifNLXXJR941F5\"\n",
    "openai.api_key = secret_api_key"
   ]
  },
  {
   "cell_type": "code",
   "execution_count": 64,
   "id": "local-accident",
   "metadata": {},
   "outputs": [
    {
     "name": "stdout",
     "output_type": "stream",
     "text": [
      "{\n",
      "  \"choices\": [\n",
      "    {\n",
      "      \"finish_reason\": \"length\",\n",
      "      \"index\": 0,\n",
      "      \"logprobs\": null,\n",
      "      \"text\": \". Please do not join\"\n",
      "    }\n",
      "  ],\n",
      "  \"created\": 1620356838,\n",
      "  \"id\": \"cmpl-2wl7eD7HuZblrR9rHPI5SQyLetFak\",\n",
      "  \"model\": \"davinci:2020-05-03\",\n",
      "  \"object\": \"text_completion\"\n",
      "}\n"
     ]
    }
   ],
   "source": [
    "# Test\n",
    "response = openai.Completion.create(engine=\"davinci\", prompt=\"This is a test\", max_tokens=5)\n",
    "print(response)"
   ]
  },
  {
   "cell_type": "code",
   "execution_count": 49,
   "id": "unsigned-cornwall",
   "metadata": {},
   "outputs": [
    {
     "data": {
      "text/html": [
       "<div>\n",
       "<style scoped>\n",
       "    .dataframe tbody tr th:only-of-type {\n",
       "        vertical-align: middle;\n",
       "    }\n",
       "\n",
       "    .dataframe tbody tr th {\n",
       "        vertical-align: top;\n",
       "    }\n",
       "\n",
       "    .dataframe thead th {\n",
       "        text-align: right;\n",
       "    }\n",
       "</style>\n",
       "<table border=\"1\" class=\"dataframe\">\n",
       "  <thead>\n",
       "    <tr style=\"text-align: right;\">\n",
       "      <th></th>\n",
       "      <th>id</th>\n",
       "      <th>rating</th>\n",
       "      <th>comments</th>\n",
       "      <th>comment category</th>\n",
       "    </tr>\n",
       "  </thead>\n",
       "  <tbody>\n",
       "    <tr>\n",
       "      <th>0</th>\n",
       "      <td>1</td>\n",
       "      <td>Good</td>\n",
       "      <td>AMAZING! best scanning experience ever!</td>\n",
       "      <td>NaN</td>\n",
       "    </tr>\n",
       "    <tr>\n",
       "      <th>1</th>\n",
       "      <td>2</td>\n",
       "      <td>Good</td>\n",
       "      <td>A bit slow but its working, also got the day o...</td>\n",
       "      <td>NaN</td>\n",
       "    </tr>\n",
       "    <tr>\n",
       "      <th>2</th>\n",
       "      <td>3</td>\n",
       "      <td>Good</td>\n",
       "      <td>NaN</td>\n",
       "      <td>NaN</td>\n",
       "    </tr>\n",
       "    <tr>\n",
       "      <th>3</th>\n",
       "      <td>4</td>\n",
       "      <td>Good</td>\n",
       "      <td>NaN</td>\n",
       "      <td>NaN</td>\n",
       "    </tr>\n",
       "    <tr>\n",
       "      <th>4</th>\n",
       "      <td>5</td>\n",
       "      <td>Good</td>\n",
       "      <td>NaN</td>\n",
       "      <td>NaN</td>\n",
       "    </tr>\n",
       "  </tbody>\n",
       "</table>\n",
       "</div>"
      ],
      "text/plain": [
       "   id rating                                           comments  \\\n",
       "0   1   Good            AMAZING! best scanning experience ever!   \n",
       "1   2   Good  A bit slow but its working, also got the day o...   \n",
       "2   3   Good                                                NaN   \n",
       "3   4   Good                                                NaN   \n",
       "4   5   Good                                                NaN   \n",
       "\n",
       "  comment category  \n",
       "0              NaN  \n",
       "1              NaN  \n",
       "2              NaN  \n",
       "3              NaN  \n",
       "4              NaN  "
      ]
     },
     "execution_count": 49,
     "metadata": {},
     "output_type": "execute_result"
    }
   ],
   "source": [
    "# Load data\n",
    "df = pd.read_csv(\"Data/text-categorisation-data.csv\")\n",
    "df.head()"
   ]
  },
  {
   "cell_type": "code",
   "execution_count": 11,
   "id": "nervous-japan",
   "metadata": {},
   "outputs": [
    {
     "data": {
      "text/html": [
       "<div>\n",
       "<style scoped>\n",
       "    .dataframe tbody tr th:only-of-type {\n",
       "        vertical-align: middle;\n",
       "    }\n",
       "\n",
       "    .dataframe tbody tr th {\n",
       "        vertical-align: top;\n",
       "    }\n",
       "\n",
       "    .dataframe thead th {\n",
       "        text-align: right;\n",
       "    }\n",
       "</style>\n",
       "<table border=\"1\" class=\"dataframe\">\n",
       "  <thead>\n",
       "    <tr style=\"text-align: right;\">\n",
       "      <th></th>\n",
       "      <th>id</th>\n",
       "      <th>rating</th>\n",
       "      <th>comments</th>\n",
       "    </tr>\n",
       "    <tr>\n",
       "      <th>comment category</th>\n",
       "      <th></th>\n",
       "      <th></th>\n",
       "      <th></th>\n",
       "    </tr>\n",
       "  </thead>\n",
       "  <tbody>\n",
       "    <tr>\n",
       "      <th>Inaccurate scan</th>\n",
       "      <td>332</td>\n",
       "      <td>332</td>\n",
       "      <td>325</td>\n",
       "    </tr>\n",
       "    <tr>\n",
       "      <th>Take too long</th>\n",
       "      <td>108</td>\n",
       "      <td>108</td>\n",
       "      <td>106</td>\n",
       "    </tr>\n",
       "    <tr>\n",
       "      <th>No valuable reason</th>\n",
       "      <td>66</td>\n",
       "      <td>66</td>\n",
       "      <td>63</td>\n",
       "    </tr>\n",
       "    <tr>\n",
       "      <th>Full screen/ no frame</th>\n",
       "      <td>61</td>\n",
       "      <td>61</td>\n",
       "      <td>59</td>\n",
       "    </tr>\n",
       "    <tr>\n",
       "      <th>Difficult to use</th>\n",
       "      <td>59</td>\n",
       "      <td>59</td>\n",
       "      <td>59</td>\n",
       "    </tr>\n",
       "  </tbody>\n",
       "</table>\n",
       "</div>"
      ],
      "text/plain": [
       "                        id  rating  comments\n",
       "comment category                            \n",
       "Inaccurate scan        332     332       325\n",
       "Take too long          108     108       106\n",
       "No valuable reason      66      66        63\n",
       "Full screen/ no frame   61      61        59\n",
       "Difficult to use        59      59        59"
      ]
     },
     "execution_count": 11,
     "metadata": {},
     "output_type": "execute_result"
    }
   ],
   "source": [
    "# Group by category\n",
    "df.groupby(by=\"comment category\").count().sort_values(by='id', ascending=False).head()"
   ]
  },
  {
   "cell_type": "code",
   "execution_count": 57,
   "id": "actual-collins",
   "metadata": {},
   "outputs": [
    {
     "name": "stdout",
     "output_type": "stream",
     "text": [
      "20\n"
     ]
    }
   ],
   "source": [
    "# Sample from two categories\n",
    "n_samples = 10\n",
    "\n",
    "def sample_category(df, category, n=10):\n",
    "    df = df\\\n",
    "        .copy()\\\n",
    "        .loc[df[\"comment category\"].isin([category]),[\"comments\",\"comment category\"]]\\\n",
    "        .rename(columns={\"comments\":\"text\",\"comment category\":\"label\"})\\\n",
    "        .sample(n)\n",
    "    return df\n",
    "\n",
    "sample_df = pd.concat([sample_category(df=df,category=\"Inaccurate scan\",n=n_samples),\n",
    "                       sample_category(df=df,category=\"Take too long\",n=n_samples)])\n",
    "sample_l = sample_df.to_dict('records')\n",
    "print(len(sample_l))"
   ]
  },
  {
   "cell_type": "code",
   "execution_count": 60,
   "id": "stopped-bennett",
   "metadata": {},
   "outputs": [],
   "source": [
    "# Export json lines file\n",
    "with jsonlines.open(\"Data/text-categorisation-data.jsonl\", mode='w') as writer:\n",
    "    for d in dict_l:\n",
    "        writer.write(d)"
   ]
  },
  {
   "cell_type": "code",
   "execution_count": 66,
   "id": "double-disabled",
   "metadata": {},
   "outputs": [
    {
     "name": "stderr",
     "output_type": "stream",
     "text": [
      "\n",
      "Upload progress:   0%|          | 0.00/35.9k [00:00<?, ?it/s]\u001b[A\n",
      "Upload progress:  23%|██▎       | 8.19k/35.9k [00:03<00:12, 2.26kit/s]\u001b[A\n",
      "Upload progress:  46%|████▌     | 16.4k/35.9k [00:03<00:04, 4.51kit/s]\u001b[A\n",
      "Upload progress:  68%|██████▊   | 24.6k/35.9k [00:03<00:01, 6.76kit/s]\u001b[A\n",
      "Upload progress: 100%|██████████| 35.9k/35.9k [00:03<00:00, 9.86kit/s]\u001b[A\n"
     ]
    },
    {
     "data": {
      "text/plain": [
       "<File file id=file-MICfYopkuLi28oBR8IWQDazX at 0x7fd08c6962f0> JSON: {\n",
       "  \"bytes\": 35620,\n",
       "  \"created_at\": 1620356886,\n",
       "  \"filename\": \"Data/text-categorisation-data.jsonl\",\n",
       "  \"id\": \"file-MICfYopkuLi28oBR8IWQDazX\",\n",
       "  \"object\": \"file\",\n",
       "  \"purpose\": \"classifications\",\n",
       "  \"status\": \"uploaded\",\n",
       "  \"status_details\": null\n",
       "}"
      ]
     },
     "execution_count": 66,
     "metadata": {},
     "output_type": "execute_result"
    }
   ],
   "source": [
    "# Upload labelled examples to OpenAI\n",
    "openai.File.create(file=open(\"Data/text-categorisation-data.jsonl\"), purpose=\"classifications\")"
   ]
  },
  {
   "cell_type": "code",
   "execution_count": 67,
   "id": "dominican-detroit",
   "metadata": {},
   "outputs": [],
   "source": [
    "# Query classifications\n",
    "def query_classifications(query):\n",
    "    clf_obj = openai.Classification.create(\n",
    "        #file=\"file-6zkkNvBUTAWRNzwSayFc3LUs\", # Trained on all labels\n",
    "        file=\"file-MICfYopkuLi28oBR8IWQDazX\", # Trained on 10 random labels\n",
    "        query=query,\n",
    "        search_model=\"ada\", \n",
    "        model=\"curie\", \n",
    "        max_examples=3\n",
    "    )\n",
    "    return clf_obj"
   ]
  },
  {
   "cell_type": "code",
   "execution_count": 69,
   "id": "atomic-gardening",
   "metadata": {},
   "outputs": [],
   "source": [
    "# Test query classifications\n",
    "q1 = \"The scan took way too long!!!\"\n",
    "q2 = \"I couldn't detect my driver's license!!\"\n",
    "q3 = \"The scan got my name wrong\"\n",
    "q4 = \"I waited 5 mins for the scan and just gave up on it in the end...\"\n",
    "\n",
    "clf1 = query_classifications(q1)\n",
    "clf2 = query_classifications(q2)\n",
    "clf3 = query_classifications(q3)\n",
    "clf4 = query_classifications(q4)"
   ]
  },
  {
   "cell_type": "code",
   "execution_count": 73,
   "id": "structured-novelty",
   "metadata": {},
   "outputs": [
    {
     "data": {
      "text/plain": [
       "<OpenAIObject classification at 0x7fd08c6a3ef0> JSON: {\n",
       "  \"completion\": \"cmpl-2wlGz7COMwUbkbP8dJuCfyuFWRxdR\",\n",
       "  \"file\": \"file-MICfYopkuLi28oBR8IWQDazX\",\n",
       "  \"label\": \"Take too long\",\n",
       "  \"model\": \"curie:2020-05-03\",\n",
       "  \"object\": \"classification\",\n",
       "  \"search_model\": \"ada:2020-05-03\",\n",
       "  \"selected_examples\": [\n",
       "    {\n",
       "      \"document\": 1,\n",
       "      \"label\": \"Inaccurate scan\",\n",
       "      \"object\": \"search_result\",\n",
       "      \"score\": 51.966,\n",
       "      \"text\": \"Just did not scan correctly.\"\n",
       "    },\n",
       "    {\n",
       "      \"document\": 2,\n",
       "      \"label\": \"Take too long\",\n",
       "      \"object\": \"search_result\",\n",
       "      \"score\": 42.453,\n",
       "      \"text\": \"Just took ages to scan \"\n",
       "    },\n",
       "    {\n",
       "      \"document\": 0,\n",
       "      \"label\": \"Take too long\",\n",
       "      \"object\": \"search_result\",\n",
       "      \"score\": 95.939,\n",
       "      \"text\": \"took about 5 mins to scan, just give me the option to put the details in manually \"\n",
       "    }\n",
       "  ]\n",
       "}"
      ]
     },
     "execution_count": 73,
     "metadata": {},
     "output_type": "execute_result"
    }
   ],
   "source": [
    "clf4"
   ]
  }
 ],
 "metadata": {
  "kernelspec": {
   "display_name": "Python 3",
   "language": "python",
   "name": "python3"
  },
  "language_info": {
   "codemirror_mode": {
    "name": "ipython",
    "version": 3
   },
   "file_extension": ".py",
   "mimetype": "text/x-python",
   "name": "python",
   "nbconvert_exporter": "python",
   "pygments_lexer": "ipython3",
   "version": "3.7.10"
  }
 },
 "nbformat": 4,
 "nbformat_minor": 5
}
