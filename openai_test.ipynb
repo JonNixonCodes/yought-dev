{
 "cells": [
  {
   "cell_type": "code",
   "execution_count": 2,
   "id": "incomplete-lafayette",
   "metadata": {},
   "outputs": [],
   "source": [
    "# Import libraries\n",
    "import openai"
   ]
  },
  {
   "cell_type": "code",
   "execution_count": 3,
   "id": "super-camel",
   "metadata": {},
   "outputs": [],
   "source": [
    "# Setup OpenAI API\n",
    "secret_api_key=\"sk-UgVTxJkXAOwlfRIJbh5t69Vl9O6ifNLXXJR941F5\"\n",
    "openai.api_key = secret_api_key"
   ]
  },
  {
   "cell_type": "code",
   "execution_count": 4,
   "id": "aboriginal-tattoo",
   "metadata": {},
   "outputs": [],
   "source": [
    "# Test\n",
    "response = openai.Completion.create(engine=\"davinci\", prompt=\"This is a test\", max_tokens=5)"
   ]
  },
  {
   "cell_type": "code",
   "execution_count": 7,
   "id": "useful-light",
   "metadata": {},
   "outputs": [
    {
     "data": {
      "text/plain": [
       "<OpenAIObject text_completion id=cmpl-2ujuJGbgpB08DdMtYiLojQhdCxlcx at 0x7fdd152a7c50> JSON: {\n",
       "  \"choices\": [\n",
       "    {\n",
       "      \"finish_reason\": \"length\",\n",
       "      \"index\": 0,\n",
       "      \"logprobs\": null,\n",
       "      \"text\": \" product with some nature sounds\"\n",
       "    }\n",
       "  ],\n",
       "  \"created\": 1619875511,\n",
       "  \"id\": \"cmpl-2ujuJGbgpB08DdMtYiLojQhdCxlcx\",\n",
       "  \"model\": \"davinci:2020-05-03\",\n",
       "  \"object\": \"text_completion\"\n",
       "}"
      ]
     },
     "execution_count": 7,
     "metadata": {},
     "output_type": "execute_result"
    }
   ],
   "source": [
    "response"
   ]
  }
 ],
 "metadata": {
  "kernelspec": {
   "display_name": "Python 3",
   "language": "python",
   "name": "python3"
  },
  "language_info": {
   "codemirror_mode": {
    "name": "ipython",
    "version": 3
   },
   "file_extension": ".py",
   "mimetype": "text/x-python",
   "name": "python",
   "nbconvert_exporter": "python",
   "pygments_lexer": "ipython3",
   "version": "3.7.10"
  }
 },
 "nbformat": 4,
 "nbformat_minor": 5
}
